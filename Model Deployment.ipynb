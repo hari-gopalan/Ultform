{
 "cells": [
  {
   "cell_type": "markdown",
   "metadata": {},
   "source": [
    "### Ultrasound ED Daily Conversion Rate ###"
   ]
  },
  {
   "cell_type": "markdown",
   "metadata": {},
   "source": [
    "Import Relevant Packages"
   ]
  },
  {
   "cell_type": "code",
   "execution_count": 86,
   "metadata": {},
   "outputs": [],
   "source": [
    "import numpy as np \n",
    "import pandas as pd\n",
    "import matplotlib.pyplot as plt \n",
    "import scipy as sp \n",
    "import seaborn as sns\n",
    "from sklearn.model_selection import train_test_split, RandomizedSearchCV, cross_val_score\n",
    "from sklearn.ensemble import RandomForestRegressor, GradientBoostingRegressor, VotingRegressor, AdaBoostRegressor, RandomForestClassifier\n",
    "from sklearn.metrics import mean_absolute_error, mean_squared_error, r2_score\n",
    "from sklearn.feature_selection import SelectFromModel\n",
    "from scipy.stats import randint, uniform\n",
    "from sklearn.model_selection import learning_curve\n",
    "import joblib\n",
    "from sklearn.compose import ColumnTransformer\n",
    "from sklearn.pipeline import Pipeline\n",
    "from sklearn.impute import SimpleImputer\n",
    "from sklearn.preprocessing import StandardScaler, OneHotEncoder\n",
    "import joblib\n",
    "import xgboost as xgb\n",
    "import gzip\n"
   ]
  },
  {
   "cell_type": "markdown",
   "metadata": {},
   "source": [
    "Import CSV & Data Preparation"
   ]
  },
  {
   "cell_type": "code",
   "execution_count": 87,
   "metadata": {},
   "outputs": [
    {
     "name": "stderr",
     "output_type": "stream",
     "text": [
      "/var/folders/yc/cq9dw0cn3rn3rmcrkgyd98h00000gn/T/ipykernel_23026/1407941620.py:45: UserWarning: Could not infer format, so each element will be parsed individually, falling back to `dateutil`. To ensure parsing is consistent and as-expected, please specify a format.\n",
      "  df['Is_AM'] = pd.to_datetime(df['ED Arrival Time']).dt.hour < 12\n",
      "/var/folders/yc/cq9dw0cn3rn3rmcrkgyd98h00000gn/T/ipykernel_23026/1407941620.py:46: UserWarning: Could not infer format, so each element will be parsed individually, falling back to `dateutil`. To ensure parsing is consistent and as-expected, please specify a format.\n",
      "  df['Is_PM'] = pd.to_datetime(df['ED Arrival Time']).dt.hour > 12\n"
     ]
    }
   ],
   "source": [
    "# Load the dataset\n",
    "df = pd.read_csv('/Users/hari/Documents/synthetic_ed_data_7_years.csv')\n",
    "\n",
    "# Drop irrelevant columns\n",
    "df = df.drop(columns=['Patient Name'])\n",
    "\n",
    "# Map Y/N values to 1 and 0 for 'Ordered Ultrasound (Y/N)'\n",
    "df['Ordered Ultrasound (Y/N)'] = df['Ordered Ultrasound (Y/N)'].map({'Y': 1, 'N': 0})\n",
    "\n",
    "# Create a new column 'Ordered Ultrasound Dummified'\n",
    "df['Ordered Ultrasound Dummified'] = df['Ordered Ultrasound (Y/N)']\n",
    "\n",
    "# Replace NaN values for Ultrasound Types, Date Ordered with 'Not Ordered' when ultrasound not ordered\n",
    "df.loc[df['Ordered Ultrasound (Y/N)'] == 0, 'Ultrasound Type'] = 'Not Ordered'\n",
    "df.loc[df['Ordered Ultrasound (Y/N)'] == 0, 'Time Ultrasound Ordered'] = 'Not Ordered'\n",
    "df.loc[df['Ordered Ultrasound (Y/N)'] == 0, 'Date Ultrasound Ordered'] = 'Not Ordered'\n",
    "\n",
    "# Remove priority codes where ultrasound was not ordered\n",
    "priority_code_columns = [col for col in df.columns if col.startswith('Priority Code')]\n",
    "df.loc[df['Ordered Ultrasound (Y/N)'] == 0, priority_code_columns] = None\n",
    "\n",
    "# Dummify categorical columns\n",
    "df = pd.get_dummies(df, columns=['Priority Code', 'Ultrasound Type', 'Attending Physician'], dummy_na=True)\n",
    "\n",
    "# Convert age to years and apply binning\n",
    "def convert_age_to_years(age_str):\n",
    "    if isinstance(age_str, str):\n",
    "        if 'year' in age_str:\n",
    "            age_value = int(age_str.split()[0])\n",
    "            return age_value\n",
    "        elif 'month' in age_str:\n",
    "            age_value = int(age_str.split()[0])\n",
    "            return age_value / 12\n",
    "    return None\n",
    "\n",
    "df['Age in Years'] = df['Age'].apply(convert_age_to_years)\n",
    "df = df.drop(columns=['Age'])\n",
    "\n",
    "# Apply binning technique for age groups.\n",
    "bins = [0, 1, 5, 12, 18]\n",
    "labels = ['Infant', 'Toddler', 'Child', 'Teen']\n",
    "df['Age Group'] = pd.cut(df['Age in Years'], bins=bins, labels=labels, right=False)\n",
    "\n",
    "# ED Time of Day Arrival, AM/PM, Business Hours, Off Hours\n",
    "df['Is_AM'] = pd.to_datetime(df['ED Arrival Time']).dt.hour < 12\n",
    "df['Is_PM'] = pd.to_datetime(df['ED Arrival Time']).dt.hour > 12\n",
    "df['Is_Business_Hour'] = df['ED Arrival Time'].apply(lambda x: 8 <= pd.to_datetime(x).hour < 19)\n",
    "\n",
    "df['Is_AM_Business_Hours'] = df['Is_AM'] & df['Is_Business_Hour']\n",
    "df['Is_PM_Business_Hours'] = df['Is_PM'] & df['Is_Business_Hour']\n",
    "\n",
    "# Day of the Week (ED Arrival)\n",
    "df['Day_of_Week'] = pd.to_datetime(df['ED Arrival Date']).dt.dayofweek\n",
    "df['Is_Weekend'] = df['Day_of_Week'].apply(lambda x: 1 if x >= 5 else 0)\n",
    "\n",
    "# Calculate time between patient arrivals\n",
    "df['Time_Between_Arrivals'] = pd.to_datetime(df['ED Arrival Date']).diff().dt.total_seconds() / 60\n",
    "\n",
    "# Aggregating daily conversion rates\n",
    "daily_conversion = df.groupby('ED Arrival Date').agg(\n",
    "    Total_Arrivals=('MRN', 'count'),\n",
    "    Ultrasound_Requests=('Ordered Ultrasound Dummified', 'sum')\n",
    ")\n",
    "\n",
    "# Calculate Conversion Rate\n",
    "daily_conversion['Conversion_Rate'] = (daily_conversion['Ultrasound_Requests'] / daily_conversion['Total_Arrivals']) * 100\n",
    "daily_conversion = daily_conversion.reset_index()\n",
    "\n",
    "# Merge daily conversion rates back into the original dataframe\n",
    "df = df.merge(daily_conversion[['ED Arrival Date', 'Conversion_Rate']], on='ED Arrival Date', how='left')"
   ]
  },
  {
   "cell_type": "markdown",
   "metadata": {},
   "source": [
    "Train Test Set & Model"
   ]
  },
  {
   "cell_type": "code",
   "execution_count": 88,
   "metadata": {},
   "outputs": [
    {
     "name": "stdout",
     "output_type": "stream",
     "text": [
      "Mean Absolute Error: 3.14381147876115\n",
      "Mean Squared Error: 15.874280645588081\n",
      "R-squared: 0.0032244983599921673\n"
     ]
    }
   ],
   "source": [
    "# Drop columns that are no longer needed\n",
    "columns_to_drop = [\n",
    "    'MRN', 'ED Arrival Time', 'ED Arrival Date', 'ED Patient Initial Assessment Time',\n",
    "    'Time Ultrasound Ordered', 'Date Ultrasound Ordered', 'Ordered Ultrasound Dummified',\n",
    "    'Priority Code_P1', 'Priority Code_P2', 'Priority Code_P3', 'Priority Code_P4', 'Chief Complaint',\n",
    "    'Ultrasound Type_Not Ordered', 'Ultrasound Type_US Abdomen', 'Ultrasound Type_US Abdomen Pelvis',\n",
    "    'Ultrasound Type_US Lower Extremity Doppler', 'Ultrasound Type_US Pelvic', 'Ultrasound Type_US Scrotal',\n",
    "    'Ultrasound Type_US Thyroid', 'Ultrasound Type_US Upper Extremity Doppler',\n",
    "    'Attending Physician_Andrea Greene MD', 'Attending Physician_Andrew Cole MD',\n",
    "    'Attending Physician_Ashley Serrano MD', 'Attending Physician_Carolyn Klein MD',\n",
    "    'Attending Physician_Charles Wright MD', 'Attending Physician_Christopher Christensen MD',\n",
    "    'Attending Physician_Christopher Long MD', 'Attending Physician_Connie Daniels MD',\n",
    "    'Attending Physician_Gerald Baldwin MD', 'Attending Physician_Jessica Allen MD',\n",
    "    'Attending Physician_Kari Stewart MD', 'Attending Physician_Kevin Harrison MD',\n",
    "    'Attending Physician_Kimberly Hopkins MD', 'Attending Physician_Matthew Walter MD',\n",
    "    'Attending Physician_Melissa Guerra MD', 'Attending Physician_Patrick Burton MD',\n",
    "    'Attending Physician_Robert Carr MD', 'Attending Physician_Sara Gray MD',\n",
    "    'Attending Physician_Sonia Mays MD', 'Attending Physician_Susan Lucas MD', 'Month', 'Year', 'ED Arrival Timestamp'\n",
    "]\n",
    "\n",
    "# Drop only the columns that exist in the DataFrame\n",
    "columns_to_drop_existing = [col for col in columns_to_drop if col in df.columns]\n",
    "df = df.drop(columns=columns_to_drop_existing)\n",
    "\n",
    "# Handle missing values for numerical columns\n",
    "for col in df.select_dtypes(include=[np.number]).columns:\n",
    "    df[col] = df[col].fillna(0)\n",
    "\n",
    "# Encode categorical variables\n",
    "df = pd.get_dummies(df, drop_first=True)\n",
    "\n",
    "# Define features and target variable\n",
    "features = df.drop(columns=['Conversion_Rate'])\n",
    "target = df['Conversion_Rate']\n",
    "\n",
    "# Split data into training and testing sets\n",
    "X_train, X_test, y_train, y_test = train_test_split(features, target, test_size=0.2, random_state=42)\n",
    "\n",
    "# Initialize XGBoost Regressor\n",
    "xg_reg = xgb.XGBRegressor(n_estimators=393, max_depth=20, learning_rate=0.1, random_state=42)\n",
    "\n",
    "# Train the XGBoost model\n",
    "xg_reg.fit(X_train, y_train)\n",
    "\n",
    "# Make predictions\n",
    "y_pred = xg_reg.predict(X_test)\n",
    "\n",
    "# Evaluate the model\n",
    "mae = mean_absolute_error(y_test, y_pred)\n",
    "mse = mean_squared_error(y_test, y_pred)\n",
    "r2 = r2_score(y_test, y_pred)\n",
    "\n",
    "print(f'Mean Absolute Error: {mae}')\n",
    "print(f'Mean Squared Error: {mse}')\n",
    "print(f'R-squared: {r2}')\n",
    "\n",
    "# # Generator for features\n",
    "# def feature_generator(X_test_selected, selected_columns):\n",
    "#     # Generate features for prediction\n",
    "#     for i, row in enumerate(X_test_selected):\n",
    "#         feature_set = {selected_columns[j]: row[j] for j in range(len(selected_columns))}\n",
    "#         yield feature_set\n",
    "\n",
    "# # usage\n",
    "# for feature_set in feature_generator(X_test_selected, selected_columns):\n",
    "#     print(feature_set)  # Print feature set for each row (can be fed into your app)"
   ]
  },
  {
   "cell_type": "markdown",
   "metadata": {},
   "source": []
  },
  {
   "cell_type": "code",
   "execution_count": 89,
   "metadata": {},
   "outputs": [
    {
     "name": "stdout",
     "output_type": "stream",
     "text": [
      "Model compressed and saved successfully at /Users/hari/Documents/ULTFORM/xgboost_model_compressed.pkl.\n",
      "\n",
      "Columns required for synthetic patient generation:\n",
      "Ordered Ultrasound (Y/N)\n",
      "Priority Code_nan\n",
      "Ultrasound Type_nan\n",
      "Attending Physician_nan\n",
      "Age in Years\n",
      "Is_AM\n",
      "Is_PM\n",
      "Is_Business_Hour\n",
      "Is_AM_Business_Hours\n",
      "Is_PM_Business_Hours\n",
      "Day_of_Week\n",
      "Is_Weekend\n",
      "Time_Between_Arrivals\n",
      "Age Group_Toddler\n",
      "Age Group_Child\n",
      "Age Group_Teen\n"
     ]
    }
   ],
   "source": [
    "# Save the XGBoost model with joblib compression\n",
    "model_path = '/Users/hari/Documents/ULTFORM/xgboost_model.pkl'\n",
    "joblib.dump(xg_reg, model_path)\n",
    "\n",
    "# Compress the model using gzip compression level 3\n",
    "compressed_model_path = '/Users/hari/Documents/ULTFORM/xgboost_model_compressed.pkl'\n",
    "joblib.dump(xg_reg, compressed_model_path, compress=('gzip', 3))\n",
    "\n",
    "print(f\"Model compressed and saved successfully at {compressed_model_path}.\")\n",
    "\n",
    "# Print the columns used for synthetic data generation\n",
    "required_columns = X_train.columns\n",
    "print(\"\\nColumns required for synthetic patient generation:\")\n",
    "for column in required_columns:\n",
    "    print(column)"
   ]
  }
 ],
 "metadata": {
  "kernelspec": {
   "display_name": "Python 3",
   "language": "python",
   "name": "python3"
  },
  "language_info": {
   "codemirror_mode": {
    "name": "ipython",
    "version": 3
   },
   "file_extension": ".py",
   "mimetype": "text/x-python",
   "name": "python",
   "nbconvert_exporter": "python",
   "pygments_lexer": "ipython3",
   "version": "3.12.5"
  }
 },
 "nbformat": 4,
 "nbformat_minor": 2
}
